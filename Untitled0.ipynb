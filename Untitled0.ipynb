{
  "cells": [
    {
      "cell_type": "code",
      "execution_count": 35,
      "metadata": {
        "id": "304PLTVUpySp"
      },
      "outputs": [],
      "source": [
        "import numpy as np\n",
        "import pandas as pd\n",
        "import matplotlib.pyplot as plt\n",
        "\n",
        "df=pd.read_excel(\"medical_billing_data.xlsx\")"
      ]
    },
    {
      "cell_type": "code",
      "execution_count": 36,
      "metadata": {
        "colab": {
          "base_uri": "https://localhost:8080/",
          "height": 206
        },
        "id": "wwhKzEIFrHGh",
        "outputId": "48d527bf-30c7-4c71-b111-94171c08ea70"
      },
      "outputs": [
        {
          "data": {
            "text/html": [
              "<div>\n",
              "<style scoped>\n",
              "    .dataframe tbody tr th:only-of-type {\n",
              "        vertical-align: middle;\n",
              "    }\n",
              "\n",
              "    .dataframe tbody tr th {\n",
              "        vertical-align: top;\n",
              "    }\n",
              "\n",
              "    .dataframe thead th {\n",
              "        text-align: right;\n",
              "    }\n",
              "</style>\n",
              "<table border=\"1\" class=\"dataframe\">\n",
              "  <thead>\n",
              "    <tr style=\"text-align: right;\">\n",
              "      <th></th>\n",
              "      <th>#</th>\n",
              "      <th>CPT Code</th>\n",
              "      <th>Insurance Company</th>\n",
              "      <th>Physician Name</th>\n",
              "      <th>Payment Amount</th>\n",
              "      <th>Balance</th>\n",
              "      <th>Denial Reason</th>\n",
              "    </tr>\n",
              "  </thead>\n",
              "  <tbody>\n",
              "    <tr>\n",
              "      <th>0</th>\n",
              "      <td>1</td>\n",
              "      <td>99213</td>\n",
              "      <td>Medicare</td>\n",
              "      <td>Dr. Smith</td>\n",
              "      <td>$0.00</td>\n",
              "      <td>$100.00</td>\n",
              "      <td>16 - Missing information</td>\n",
              "    </tr>\n",
              "    <tr>\n",
              "      <th>1</th>\n",
              "      <td>2</td>\n",
              "      <td>99214</td>\n",
              "      <td>Aetna</td>\n",
              "      <td>Dr. Johnson</td>\n",
              "      <td>$80.00</td>\n",
              "      <td>$20.00</td>\n",
              "      <td>NaN</td>\n",
              "    </tr>\n",
              "    <tr>\n",
              "      <th>2</th>\n",
              "      <td>3</td>\n",
              "      <td>99215</td>\n",
              "      <td>Cigna</td>\n",
              "      <td>Dr. Lee</td>\n",
              "      <td>$0.00</td>\n",
              "      <td>$150.00</td>\n",
              "      <td>45 - Charge exceeds fee schedule</td>\n",
              "    </tr>\n",
              "    <tr>\n",
              "      <th>3</th>\n",
              "      <td>4</td>\n",
              "      <td>93000</td>\n",
              "      <td>UnitedHealthcare</td>\n",
              "      <td>Dr. Patel</td>\n",
              "      <td>$50.00</td>\n",
              "      <td>$0.00</td>\n",
              "      <td>NaN</td>\n",
              "    </tr>\n",
              "    <tr>\n",
              "      <th>4</th>\n",
              "      <td>5</td>\n",
              "      <td>99212</td>\n",
              "      <td>Blue Cross</td>\n",
              "      <td>Dr. Kim</td>\n",
              "      <td>$0.00</td>\n",
              "      <td>$75.00</td>\n",
              "      <td>96 - Non-covered service</td>\n",
              "    </tr>\n",
              "  </tbody>\n",
              "</table>\n",
              "</div>"
            ],
            "text/plain": [
              "   #  CPT Code Insurance Company Physician Name Payment Amount  Balance  \\\n",
              "0  1     99213          Medicare      Dr. Smith          $0.00  $100.00   \n",
              "1  2     99214             Aetna    Dr. Johnson         $80.00   $20.00   \n",
              "2  3     99215             Cigna        Dr. Lee          $0.00  $150.00   \n",
              "3  4     93000  UnitedHealthcare      Dr. Patel         $50.00    $0.00   \n",
              "4  5     99212        Blue Cross        Dr. Kim          $0.00   $75.00   \n",
              "\n",
              "                      Denial Reason  \n",
              "0          16 - Missing information  \n",
              "1                               NaN  \n",
              "2  45 - Charge exceeds fee schedule  \n",
              "3                               NaN  \n",
              "4          96 - Non-covered service  "
            ]
          },
          "execution_count": 36,
          "metadata": {},
          "output_type": "execute_result"
        }
      ],
      "source": [
        "df.head()"
      ]
    },
    {
      "cell_type": "code",
      "execution_count": 37,
      "metadata": {
        "colab": {
          "base_uri": "https://localhost:8080/",
          "height": 206
        },
        "id": "LEH3Rp-XrJEF",
        "outputId": "c43e0079-cdbb-472c-a1bc-e41b99b601e6"
      },
      "outputs": [
        {
          "data": {
            "text/html": [
              "<div>\n",
              "<style scoped>\n",
              "    .dataframe tbody tr th:only-of-type {\n",
              "        vertical-align: middle;\n",
              "    }\n",
              "\n",
              "    .dataframe tbody tr th {\n",
              "        vertical-align: top;\n",
              "    }\n",
              "\n",
              "    .dataframe thead th {\n",
              "        text-align: right;\n",
              "    }\n",
              "</style>\n",
              "<table border=\"1\" class=\"dataframe\">\n",
              "  <thead>\n",
              "    <tr style=\"text-align: right;\">\n",
              "      <th></th>\n",
              "      <th>#</th>\n",
              "      <th>CPT Code</th>\n",
              "      <th>Insurance Company</th>\n",
              "      <th>Physician Name</th>\n",
              "      <th>Payment Amount</th>\n",
              "      <th>Balance</th>\n",
              "      <th>Denial Reason</th>\n",
              "    </tr>\n",
              "  </thead>\n",
              "  <tbody>\n",
              "    <tr>\n",
              "      <th>15</th>\n",
              "      <td>16</td>\n",
              "      <td>99213</td>\n",
              "      <td>Medicare</td>\n",
              "      <td>Dr. Smith</td>\n",
              "      <td>$0.00</td>\n",
              "      <td>$100.00</td>\n",
              "      <td>16 - Missing information</td>\n",
              "    </tr>\n",
              "    <tr>\n",
              "      <th>16</th>\n",
              "      <td>17</td>\n",
              "      <td>99214</td>\n",
              "      <td>Aetna</td>\n",
              "      <td>Dr. Johnson</td>\n",
              "      <td>$80.00</td>\n",
              "      <td>$20.00</td>\n",
              "      <td>NaN</td>\n",
              "    </tr>\n",
              "    <tr>\n",
              "      <th>17</th>\n",
              "      <td>18</td>\n",
              "      <td>99215</td>\n",
              "      <td>Cigna</td>\n",
              "      <td>Dr. Lee</td>\n",
              "      <td>$0.00</td>\n",
              "      <td>$150.00</td>\n",
              "      <td>45 - Charge exceeds fee schedule</td>\n",
              "    </tr>\n",
              "    <tr>\n",
              "      <th>18</th>\n",
              "      <td>19</td>\n",
              "      <td>93000</td>\n",
              "      <td>UnitedHealthcare</td>\n",
              "      <td>Dr. Patel</td>\n",
              "      <td>$50.00</td>\n",
              "      <td>$0.00</td>\n",
              "      <td>NaN</td>\n",
              "    </tr>\n",
              "    <tr>\n",
              "      <th>19</th>\n",
              "      <td>20</td>\n",
              "      <td>99212</td>\n",
              "      <td>Blue Cross</td>\n",
              "      <td>Dr. Kim</td>\n",
              "      <td>$0.00</td>\n",
              "      <td>$75.00</td>\n",
              "      <td>96 - Non-covered service</td>\n",
              "    </tr>\n",
              "  </tbody>\n",
              "</table>\n",
              "</div>"
            ],
            "text/plain": [
              "     #  CPT Code Insurance Company Physician Name Payment Amount  Balance  \\\n",
              "15  16     99213          Medicare      Dr. Smith          $0.00  $100.00   \n",
              "16  17     99214             Aetna    Dr. Johnson         $80.00   $20.00   \n",
              "17  18     99215             Cigna        Dr. Lee          $0.00  $150.00   \n",
              "18  19     93000  UnitedHealthcare      Dr. Patel         $50.00    $0.00   \n",
              "19  20     99212        Blue Cross        Dr. Kim          $0.00   $75.00   \n",
              "\n",
              "                       Denial Reason  \n",
              "15          16 - Missing information  \n",
              "16                               NaN  \n",
              "17  45 - Charge exceeds fee schedule  \n",
              "18                               NaN  \n",
              "19          96 - Non-covered service  "
            ]
          },
          "execution_count": 37,
          "metadata": {},
          "output_type": "execute_result"
        }
      ],
      "source": [
        "df.tail()"
      ]
    },
    {
      "cell_type": "code",
      "execution_count": 38,
      "metadata": {
        "colab": {
          "base_uri": "https://localhost:8080/"
        },
        "id": "ylazx8iirs-V",
        "outputId": "a623e3a5-5f97-4884-95c5-e919fd508c88"
      },
      "outputs": [
        {
          "data": {
            "text/plain": [
              "(20, 7)"
            ]
          },
          "execution_count": 38,
          "metadata": {},
          "output_type": "execute_result"
        }
      ],
      "source": [
        "df.shape"
      ]
    },
    {
      "cell_type": "code",
      "execution_count": 39,
      "metadata": {},
      "outputs": [
        {
          "name": "stdout",
          "output_type": "stream",
          "text": [
            "<class 'pandas.core.frame.DataFrame'>\n",
            "RangeIndex: 20 entries, 0 to 19\n",
            "Data columns (total 7 columns):\n",
            " #   Column             Non-Null Count  Dtype \n",
            "---  ------             --------------  ----- \n",
            " 0   #                  20 non-null     int64 \n",
            " 1   CPT Code           20 non-null     int64 \n",
            " 2   Insurance Company  20 non-null     object\n",
            " 3   Physician Name     20 non-null     object\n",
            " 4   Payment Amount     20 non-null     object\n",
            " 5   Balance            20 non-null     object\n",
            " 6   Denial Reason      12 non-null     object\n",
            "dtypes: int64(2), object(5)\n",
            "memory usage: 1.2+ KB\n"
          ]
        }
      ],
      "source": [
        "df.info()"
      ]
    },
    {
      "cell_type": "code",
      "execution_count": 40,
      "metadata": {
        "id": "d0lzifFCrzE2"
      },
      "outputs": [],
      "source": [
        "df['Denied'] = df['Denial Reason'].notnull().astype(int)"
      ]
    },
    {
      "cell_type": "code",
      "execution_count": 41,
      "metadata": {
        "colab": {
          "base_uri": "https://localhost:8080/",
          "height": 206
        },
        "id": "4DjOyLGsscBy",
        "outputId": "e7539736-8ded-4ae8-eb47-14abcd43f214"
      },
      "outputs": [
        {
          "data": {
            "text/html": [
              "<div>\n",
              "<style scoped>\n",
              "    .dataframe tbody tr th:only-of-type {\n",
              "        vertical-align: middle;\n",
              "    }\n",
              "\n",
              "    .dataframe tbody tr th {\n",
              "        vertical-align: top;\n",
              "    }\n",
              "\n",
              "    .dataframe thead th {\n",
              "        text-align: right;\n",
              "    }\n",
              "</style>\n",
              "<table border=\"1\" class=\"dataframe\">\n",
              "  <thead>\n",
              "    <tr style=\"text-align: right;\">\n",
              "      <th></th>\n",
              "      <th>#</th>\n",
              "      <th>CPT Code</th>\n",
              "      <th>Insurance Company</th>\n",
              "      <th>Physician Name</th>\n",
              "      <th>Payment Amount</th>\n",
              "      <th>Balance</th>\n",
              "      <th>Denial Reason</th>\n",
              "      <th>Denied</th>\n",
              "    </tr>\n",
              "  </thead>\n",
              "  <tbody>\n",
              "    <tr>\n",
              "      <th>0</th>\n",
              "      <td>1</td>\n",
              "      <td>99213</td>\n",
              "      <td>Medicare</td>\n",
              "      <td>Dr. Smith</td>\n",
              "      <td>$0.00</td>\n",
              "      <td>$100.00</td>\n",
              "      <td>16 - Missing information</td>\n",
              "      <td>1</td>\n",
              "    </tr>\n",
              "    <tr>\n",
              "      <th>1</th>\n",
              "      <td>2</td>\n",
              "      <td>99214</td>\n",
              "      <td>Aetna</td>\n",
              "      <td>Dr. Johnson</td>\n",
              "      <td>$80.00</td>\n",
              "      <td>$20.00</td>\n",
              "      <td>NaN</td>\n",
              "      <td>0</td>\n",
              "    </tr>\n",
              "    <tr>\n",
              "      <th>2</th>\n",
              "      <td>3</td>\n",
              "      <td>99215</td>\n",
              "      <td>Cigna</td>\n",
              "      <td>Dr. Lee</td>\n",
              "      <td>$0.00</td>\n",
              "      <td>$150.00</td>\n",
              "      <td>45 - Charge exceeds fee schedule</td>\n",
              "      <td>1</td>\n",
              "    </tr>\n",
              "    <tr>\n",
              "      <th>3</th>\n",
              "      <td>4</td>\n",
              "      <td>93000</td>\n",
              "      <td>UnitedHealthcare</td>\n",
              "      <td>Dr. Patel</td>\n",
              "      <td>$50.00</td>\n",
              "      <td>$0.00</td>\n",
              "      <td>NaN</td>\n",
              "      <td>0</td>\n",
              "    </tr>\n",
              "    <tr>\n",
              "      <th>4</th>\n",
              "      <td>5</td>\n",
              "      <td>99212</td>\n",
              "      <td>Blue Cross</td>\n",
              "      <td>Dr. Kim</td>\n",
              "      <td>$0.00</td>\n",
              "      <td>$75.00</td>\n",
              "      <td>96 - Non-covered service</td>\n",
              "      <td>1</td>\n",
              "    </tr>\n",
              "  </tbody>\n",
              "</table>\n",
              "</div>"
            ],
            "text/plain": [
              "   #  CPT Code Insurance Company Physician Name Payment Amount  Balance  \\\n",
              "0  1     99213          Medicare      Dr. Smith          $0.00  $100.00   \n",
              "1  2     99214             Aetna    Dr. Johnson         $80.00   $20.00   \n",
              "2  3     99215             Cigna        Dr. Lee          $0.00  $150.00   \n",
              "3  4     93000  UnitedHealthcare      Dr. Patel         $50.00    $0.00   \n",
              "4  5     99212        Blue Cross        Dr. Kim          $0.00   $75.00   \n",
              "\n",
              "                      Denial Reason  Denied  \n",
              "0          16 - Missing information       1  \n",
              "1                               NaN       0  \n",
              "2  45 - Charge exceeds fee schedule       1  \n",
              "3                               NaN       0  \n",
              "4          96 - Non-covered service       1  "
            ]
          },
          "execution_count": 41,
          "metadata": {},
          "output_type": "execute_result"
        }
      ],
      "source": [
        "df.head()"
      ]
    },
    {
      "cell_type": "code",
      "execution_count": 42,
      "metadata": {
        "id": "6y5aWdd5sphO"
      },
      "outputs": [
        {
          "name": "stderr",
          "output_type": "stream",
          "text": [
            "<>:1: SyntaxWarning: invalid escape sequence '\\$'\n",
            "<>:2: SyntaxWarning: invalid escape sequence '\\$'\n",
            "<>:1: SyntaxWarning: invalid escape sequence '\\$'\n",
            "<>:2: SyntaxWarning: invalid escape sequence '\\$'\n",
            "C:\\Users\\mnand\\AppData\\Local\\Temp\\ipykernel_13408\\3749364574.py:1: SyntaxWarning: invalid escape sequence '\\$'\n",
            "  df['Payment Amount'] = df['Payment Amount'].replace('[\\$,]', '', regex=True).astype(float)\n",
            "C:\\Users\\mnand\\AppData\\Local\\Temp\\ipykernel_13408\\3749364574.py:2: SyntaxWarning: invalid escape sequence '\\$'\n",
            "  df['Balance'] = df['Balance'].replace('[\\$,]', '', regex=True).astype(float)\n"
          ]
        }
      ],
      "source": [
        "df['Payment Amount'] = df['Payment Amount'].replace('[\\$,]', '', regex=True).astype(float)\n",
        "df['Balance'] = df['Balance'].replace('[\\$,]', '', regex=True).astype(float)"
      ]
    },
    {
      "cell_type": "markdown",
      "metadata": {},
      "source": [
        "EDA"
      ]
    },
    {
      "cell_type": "code",
      "execution_count": 43,
      "metadata": {},
      "outputs": [
        {
          "data": {
            "text/plain": [
              "(20, 8)"
            ]
          },
          "execution_count": 43,
          "metadata": {},
          "output_type": "execute_result"
        }
      ],
      "source": [
        "df.shape"
      ]
    },
    {
      "cell_type": "code",
      "execution_count": 44,
      "metadata": {},
      "outputs": [
        {
          "data": {
            "text/plain": [
              "Index(['#', 'CPT Code', 'Insurance Company', 'Physician Name',\n",
              "       'Payment Amount', 'Balance', 'Denial Reason', 'Denied'],\n",
              "      dtype='object')"
            ]
          },
          "execution_count": 44,
          "metadata": {},
          "output_type": "execute_result"
        }
      ],
      "source": [
        "df.columns"
      ]
    },
    {
      "cell_type": "code",
      "execution_count": 45,
      "metadata": {},
      "outputs": [
        {
          "data": {
            "image/png": "[encoded data removed]",
            "text/plain": [
              "<Figure size 640x480 with 1 Axes>"
            ]
          },
          "metadata": {},
          "output_type": "display_data"
        }
      ],
      "source": [
        "# univarient analysis\n",
        "import seaborn as sns\n",
        "sns.countplot(x='Denied', data=df)\n",
        "plt.title(\"Claim Denied Distribution\")\n",
        "plt.show()"
      ]
    },
    {
      "cell_type": "code",
      "execution_count": 46,
      "metadata": {},
      "outputs": [
        {
          "data": {
            "image/png": "[encoded data removed]",
            "text/plain": [
              "<Figure size 640x480 with 1 Axes>"
            ]
          },
          "metadata": {},
          "output_type": "display_data"
        }
      ],
      "source": [
        "#bi variant analysis\n",
        "ins_denial = df.groupby(\"Insurance Company\")[\"Denied\"].mean()\n",
        "ins_denial.plot(kind='bar', color='orange')\n",
        "plt.title(\"Denial Rate by Insurance Company\")\n",
        "plt.ylabel(\"Denial Probability\")\n",
        "plt.xticks(rotation=45)\n",
        "plt.show()"
      ]
    },
    {
      "cell_type": "code",
      "execution_count": 47,
      "metadata": {},
      "outputs": [
        {
          "data": {
            "image/png": "[encoded data removed]",
            "text/plain": [
              "<Figure size 640x480 with 2 Axes>"
            ]
          },
          "metadata": {},
          "output_type": "display_data"
        }
      ],
      "source": [
        "#multi variant analysis\n",
        "corrs = df[['Payment Amount', 'Balance', 'Denied']].corr()\n",
        "sns.heatmap(corrs, annot=True)\n",
        "plt.title(\"Correlation Heatmap\")\n",
        "plt.show()"
      ]
    },
    {
      "cell_type": "code",
      "execution_count": 48,
      "metadata": {},
      "outputs": [],
      "source": [
        "df = df.drop(columns=[\"Denial Reason\", \"#\", \"Physician Name\"])"
      ]
    },
    {
      "cell_type": "code",
      "execution_count": 49,
      "metadata": {
        "id": "kVvuTHSasvpl"
      },
      "outputs": [],
      "source": [
        "df = pd.get_dummies(df, columns=['CPT Code', 'Insurance Company'], drop_first=True)"
      ]
    },
    {
      "cell_type": "code",
      "execution_count": 50,
      "metadata": {
        "colab": {
          "base_uri": "https://localhost:8080/",
          "height": 261
        },
        "id": "zHQQ8xNisz7O",
        "outputId": "fda0fe2d-713b-4612-d597-6f0f13cbbb04"
      },
      "outputs": [
        {
          "data": {
            "text/html": [
              "<div>\n",
              "<style scoped>\n",
              "    .dataframe tbody tr th:only-of-type {\n",
              "        vertical-align: middle;\n",
              "    }\n",
              "\n",
              "    .dataframe tbody tr th {\n",
              "        vertical-align: top;\n",
              "    }\n",
              "\n",
              "    .dataframe thead th {\n",
              "        text-align: right;\n",
              "    }\n",
              "</style>\n",
              "<table border=\"1\" class=\"dataframe\">\n",
              "  <thead>\n",
              "    <tr style=\"text-align: right;\">\n",
              "      <th></th>\n",
              "      <th>Payment Amount</th>\n",
              "      <th>Balance</th>\n",
              "      <th>Denied</th>\n",
              "      <th>CPT Code_99212</th>\n",
              "      <th>CPT Code_99213</th>\n",
              "      <th>CPT Code_99214</th>\n",
              "      <th>CPT Code_99215</th>\n",
              "      <th>Insurance Company_Blue Cross</th>\n",
              "      <th>Insurance Company_Cigna</th>\n",
              "      <th>Insurance Company_Medicare</th>\n",
              "      <th>Insurance Company_UnitedHealthcare</th>\n",
              "    </tr>\n",
              "  </thead>\n",
              "  <tbody>\n",
              "    <tr>\n",
              "      <th>0</th>\n",
              "      <td>0.0</td>\n",
              "      <td>100.0</td>\n",
              "      <td>1</td>\n",
              "      <td>False</td>\n",
              "      <td>True</td>\n",
              "      <td>False</td>\n",
              "      <td>False</td>\n",
              "      <td>False</td>\n",
              "      <td>False</td>\n",
              "      <td>True</td>\n",
              "      <td>False</td>\n",
              "    </tr>\n",
              "    <tr>\n",
              "      <th>1</th>\n",
              "      <td>80.0</td>\n",
              "      <td>20.0</td>\n",
              "      <td>0</td>\n",
              "      <td>False</td>\n",
              "      <td>False</td>\n",
              "      <td>True</td>\n",
              "      <td>False</td>\n",
              "      <td>False</td>\n",
              "      <td>False</td>\n",
              "      <td>False</td>\n",
              "      <td>False</td>\n",
              "    </tr>\n",
              "    <tr>\n",
              "      <th>2</th>\n",
              "      <td>0.0</td>\n",
              "      <td>150.0</td>\n",
              "      <td>1</td>\n",
              "      <td>False</td>\n",
              "      <td>False</td>\n",
              "      <td>False</td>\n",
              "      <td>True</td>\n",
              "      <td>False</td>\n",
              "      <td>True</td>\n",
              "      <td>False</td>\n",
              "      <td>False</td>\n",
              "    </tr>\n",
              "    <tr>\n",
              "      <th>3</th>\n",
              "      <td>50.0</td>\n",
              "      <td>0.0</td>\n",
              "      <td>0</td>\n",
              "      <td>False</td>\n",
              "      <td>False</td>\n",
              "      <td>False</td>\n",
              "      <td>False</td>\n",
              "      <td>False</td>\n",
              "      <td>False</td>\n",
              "      <td>False</td>\n",
              "      <td>True</td>\n",
              "    </tr>\n",
              "    <tr>\n",
              "      <th>4</th>\n",
              "      <td>0.0</td>\n",
              "      <td>75.0</td>\n",
              "      <td>1</td>\n",
              "      <td>True</td>\n",
              "      <td>False</td>\n",
              "      <td>False</td>\n",
              "      <td>False</td>\n",
              "      <td>True</td>\n",
              "      <td>False</td>\n",
              "      <td>False</td>\n",
              "      <td>False</td>\n",
              "    </tr>\n",
              "  </tbody>\n",
              "</table>\n",
              "</div>"
            ],
            "text/plain": [
              "   Payment Amount  Balance  Denied  CPT Code_99212  CPT Code_99213  \\\n",
              "0             0.0    100.0       1           False            True   \n",
              "1            80.0     20.0       0           False           False   \n",
              "2             0.0    150.0       1           False           False   \n",
              "3            50.0      0.0       0           False           False   \n",
              "4             0.0     75.0       1            True           False   \n",
              "\n",
              "   CPT Code_99214  CPT Code_99215  Insurance Company_Blue Cross  \\\n",
              "0           False           False                         False   \n",
              "1            True           False                         False   \n",
              "2           False            True                         False   \n",
              "3           False           False                         False   \n",
              "4           False           False                          True   \n",
              "\n",
              "   Insurance Company_Cigna  Insurance Company_Medicare  \\\n",
              "0                    False                        True   \n",
              "1                    False                       False   \n",
              "2                     True                       False   \n",
              "3                    False                       False   \n",
              "4                    False                       False   \n",
              "\n",
              "   Insurance Company_UnitedHealthcare  \n",
              "0                               False  \n",
              "1                               False  \n",
              "2                               False  \n",
              "3                                True  \n",
              "4                               False  "
            ]
          },
          "execution_count": 50,
          "metadata": {},
          "output_type": "execute_result"
        }
      ],
      "source": [
        "df.head()"
      ]
    },
    {
      "cell_type": "code",
      "execution_count": 51,
      "metadata": {
        "colab": {
          "base_uri": "https://localhost:8080/"
        },
        "id": "glvxnfj9tKxX",
        "outputId": "564c306b-c5b4-4175-e301-9b9b7a69ccee"
      },
      "outputs": [
        {
          "name": "stdout",
          "output_type": "stream",
          "text": [
            "Accuracy: 1.0\n"
          ]
        }
      ],
      "source": [
        "from sklearn.model_selection import train_test_split\n",
        "from sklearn.ensemble import RandomForestClassifier\n",
        "from sklearn.metrics import accuracy_score\n",
        "\n",
        "X = df.drop(columns=['Denied'])\n",
        "y = df['Denied']\n",
        "\n",
        "X_train, X_test, y_train, y_test = train_test_split(X, y, test_size=0.1, random_state=42)\n",
        "\n",
        "model = RandomForestClassifier()\n",
        "model.fit(X_train, y_train)\n",
        "\n",
        "print(\"Accuracy:\", accuracy_score(y_test, model.predict(X_test)))"
      ]
    },
    {
      "cell_type": "code",
      "execution_count": 52,
      "metadata": {
        "colab": {
          "base_uri": "https://localhost:8080/"
        },
        "id": "X770o5EUtMe6",
        "outputId": "e0d9b877-0f6c-40a8-e719-3892cde60dbc"
      },
      "outputs": [
        {
          "data": {
            "text/plain": [
              "['model_columns.pkl']"
            ]
          },
          "execution_count": 52,
          "metadata": {},
          "output_type": "execute_result"
        }
      ],
      "source": [
        "import joblib\n",
        "\n",
        "joblib.dump(model, \"model.pkl\")\n",
        "joblib.dump(X.columns.tolist(), \"model_columns.pkl\")"
      ]
    }
  ],
  "metadata": {
    "colab": {
      "provenance": []
    },
    "kernelspec": {
      "display_name": ".venv",
      "language": "python",
      "name": "python3"
    },
    "language_info": {
      "codemirror_mode": {
        "name": "ipython",
        "version": 3
      },
      "file_extension": ".py",
      "mimetype": "text/x-python",
      "name": "python",
      "nbconvert_exporter": "python",
      "pygments_lexer": "ipython3",
      "version": "3.13.3"
    }
  },
  "nbformat": 4,
  "nbformat_minor": 0
}
